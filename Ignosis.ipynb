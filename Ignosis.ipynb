{
 "cells": [
  {
   "cell_type": "code",
   "execution_count": 1,
   "id": "7167de27-222a-4648-9a14-ae91ec3f8c77",
   "metadata": {},
   "outputs": [],
   "source": [
    "import pandas as pd \n",
    "import numpy as np \n",
    "import seaborn as sns\n",
    "import matplotlib.pyplot as plt \n"
   ]
  },
  {
   "cell_type": "code",
   "execution_count": 2,
   "id": "ad72a8db-28c7-4b61-9720-312a57e75693",
   "metadata": {},
   "outputs": [],
   "source": [
    "purchase_behaviour= pd.read_csv(r\"C:\\Users\\swastik\\Desktop\\Ignosis dataset\\purchase_behaviour.csv\")\n",
    "transaction_data=pd.read_csv(r\"C:\\Users\\swastik\\Desktop\\Ignosis dataset\\transaction_data.csv\")"
   ]
  },
  {
   "cell_type": "code",
   "execution_count": 3,
   "id": "74b8e287-5a5e-4098-84ad-57cfe85f5f29",
   "metadata": {},
   "outputs": [
    {
     "data": {
      "text/html": [
       "<div>\n",
       "<style scoped>\n",
       "    .dataframe tbody tr th:only-of-type {\n",
       "        vertical-align: middle;\n",
       "    }\n",
       "\n",
       "    .dataframe tbody tr th {\n",
       "        vertical-align: top;\n",
       "    }\n",
       "\n",
       "    .dataframe thead th {\n",
       "        text-align: right;\n",
       "    }\n",
       "</style>\n",
       "<table border=\"1\" class=\"dataframe\">\n",
       "  <thead>\n",
       "    <tr style=\"text-align: right;\">\n",
       "      <th></th>\n",
       "      <th>LYLTY_CARD_NBR</th>\n",
       "      <th>LIFESTAGE</th>\n",
       "      <th>PREMIUM_CUSTOMER</th>\n",
       "    </tr>\n",
       "  </thead>\n",
       "  <tbody>\n",
       "    <tr>\n",
       "      <th>0</th>\n",
       "      <td>1000</td>\n",
       "      <td>YOUNG SINGLES/COUPLES</td>\n",
       "      <td>Premium</td>\n",
       "    </tr>\n",
       "    <tr>\n",
       "      <th>1</th>\n",
       "      <td>1002</td>\n",
       "      <td>YOUNG SINGLES/COUPLES</td>\n",
       "      <td>Mainstream</td>\n",
       "    </tr>\n",
       "    <tr>\n",
       "      <th>2</th>\n",
       "      <td>1003</td>\n",
       "      <td>YOUNG FAMILIES</td>\n",
       "      <td>Budget</td>\n",
       "    </tr>\n",
       "    <tr>\n",
       "      <th>3</th>\n",
       "      <td>1004</td>\n",
       "      <td>OLDER SINGLES/COUPLES</td>\n",
       "      <td>Mainstream</td>\n",
       "    </tr>\n",
       "    <tr>\n",
       "      <th>4</th>\n",
       "      <td>1005</td>\n",
       "      <td>MIDAGE SINGLES/COUPLES</td>\n",
       "      <td>Mainstream</td>\n",
       "    </tr>\n",
       "  </tbody>\n",
       "</table>\n",
       "</div>"
      ],
      "text/plain": [
       "   LYLTY_CARD_NBR               LIFESTAGE PREMIUM_CUSTOMER\n",
       "0            1000   YOUNG SINGLES/COUPLES          Premium\n",
       "1            1002   YOUNG SINGLES/COUPLES       Mainstream\n",
       "2            1003          YOUNG FAMILIES           Budget\n",
       "3            1004   OLDER SINGLES/COUPLES       Mainstream\n",
       "4            1005  MIDAGE SINGLES/COUPLES       Mainstream"
      ]
     },
     "execution_count": 3,
     "metadata": {},
     "output_type": "execute_result"
    }
   ],
   "source": [
    "purchase_behaviour.head()"
   ]
  },
  {
   "cell_type": "code",
   "execution_count": 4,
   "id": "86470f14-5e39-4f36-9f5a-9354f90ffe02",
   "metadata": {},
   "outputs": [
    {
     "data": {
      "text/plain": [
       "(72637, 3)"
      ]
     },
     "execution_count": 4,
     "metadata": {},
     "output_type": "execute_result"
    }
   ],
   "source": [
    "purchase_behaviour.shape"
   ]
  },
  {
   "cell_type": "code",
   "execution_count": 5,
   "id": "3d4e4eba-30ea-49b5-ab49-9fadec37a53d",
   "metadata": {},
   "outputs": [
    {
     "data": {
      "text/plain": [
       "(264836, 8)"
      ]
     },
     "execution_count": 5,
     "metadata": {},
     "output_type": "execute_result"
    }
   ],
   "source": [
    "transaction_data.shape"
   ]
  },
  {
   "cell_type": "code",
   "execution_count": 6,
   "id": "bc166ee2-c74f-4988-ae00-52701eaec9ed",
   "metadata": {},
   "outputs": [
    {
     "data": {
      "text/html": [
       "<div>\n",
       "<style scoped>\n",
       "    .dataframe tbody tr th:only-of-type {\n",
       "        vertical-align: middle;\n",
       "    }\n",
       "\n",
       "    .dataframe tbody tr th {\n",
       "        vertical-align: top;\n",
       "    }\n",
       "\n",
       "    .dataframe thead th {\n",
       "        text-align: right;\n",
       "    }\n",
       "</style>\n",
       "<table border=\"1\" class=\"dataframe\">\n",
       "  <thead>\n",
       "    <tr style=\"text-align: right;\">\n",
       "      <th></th>\n",
       "      <th>DATE</th>\n",
       "      <th>STORE_NBR</th>\n",
       "      <th>LYLTY_CARD_NBR</th>\n",
       "      <th>TXN_ID</th>\n",
       "      <th>PROD_NBR</th>\n",
       "      <th>PROD_NAME</th>\n",
       "      <th>PROD_QTY</th>\n",
       "      <th>TOT_SALES</th>\n",
       "    </tr>\n",
       "  </thead>\n",
       "  <tbody>\n",
       "    <tr>\n",
       "      <th>0</th>\n",
       "      <td>43390</td>\n",
       "      <td>1</td>\n",
       "      <td>1000</td>\n",
       "      <td>1</td>\n",
       "      <td>5</td>\n",
       "      <td>Natural Chip        Compny SeaSalt175g</td>\n",
       "      <td>2</td>\n",
       "      <td>6.0</td>\n",
       "    </tr>\n",
       "    <tr>\n",
       "      <th>1</th>\n",
       "      <td>43599</td>\n",
       "      <td>1</td>\n",
       "      <td>1307</td>\n",
       "      <td>348</td>\n",
       "      <td>66</td>\n",
       "      <td>CCs Nacho Cheese    175g</td>\n",
       "      <td>3</td>\n",
       "      <td>6.3</td>\n",
       "    </tr>\n",
       "    <tr>\n",
       "      <th>2</th>\n",
       "      <td>43605</td>\n",
       "      <td>1</td>\n",
       "      <td>1343</td>\n",
       "      <td>383</td>\n",
       "      <td>61</td>\n",
       "      <td>Smiths Crinkle Cut  Chips Chicken 170g</td>\n",
       "      <td>2</td>\n",
       "      <td>2.9</td>\n",
       "    </tr>\n",
       "    <tr>\n",
       "      <th>3</th>\n",
       "      <td>43329</td>\n",
       "      <td>2</td>\n",
       "      <td>2373</td>\n",
       "      <td>974</td>\n",
       "      <td>69</td>\n",
       "      <td>Smiths Chip Thinly  S/Cream&amp;Onion 175g</td>\n",
       "      <td>5</td>\n",
       "      <td>15.0</td>\n",
       "    </tr>\n",
       "    <tr>\n",
       "      <th>4</th>\n",
       "      <td>43330</td>\n",
       "      <td>2</td>\n",
       "      <td>2426</td>\n",
       "      <td>1038</td>\n",
       "      <td>108</td>\n",
       "      <td>Kettle Tortilla ChpsHny&amp;Jlpno Chili 150g</td>\n",
       "      <td>3</td>\n",
       "      <td>13.8</td>\n",
       "    </tr>\n",
       "  </tbody>\n",
       "</table>\n",
       "</div>"
      ],
      "text/plain": [
       "    DATE  STORE_NBR  LYLTY_CARD_NBR  TXN_ID  PROD_NBR  \\\n",
       "0  43390          1            1000       1         5   \n",
       "1  43599          1            1307     348        66   \n",
       "2  43605          1            1343     383        61   \n",
       "3  43329          2            2373     974        69   \n",
       "4  43330          2            2426    1038       108   \n",
       "\n",
       "                                  PROD_NAME  PROD_QTY  TOT_SALES  \n",
       "0    Natural Chip        Compny SeaSalt175g         2        6.0  \n",
       "1                  CCs Nacho Cheese    175g         3        6.3  \n",
       "2    Smiths Crinkle Cut  Chips Chicken 170g         2        2.9  \n",
       "3    Smiths Chip Thinly  S/Cream&Onion 175g         5       15.0  \n",
       "4  Kettle Tortilla ChpsHny&Jlpno Chili 150g         3       13.8  "
      ]
     },
     "execution_count": 6,
     "metadata": {},
     "output_type": "execute_result"
    }
   ],
   "source": [
    "transaction_data.head()"
   ]
  },
  {
   "cell_type": "code",
   "execution_count": 7,
   "id": "a0b031d4-d356-4595-977b-acf626903624",
   "metadata": {},
   "outputs": [
    {
     "data": {
      "text/plain": [
       "LYLTY_CARD_NBR       int64\n",
       "LIFESTAGE           object\n",
       "PREMIUM_CUSTOMER    object\n",
       "dtype: object"
      ]
     },
     "execution_count": 7,
     "metadata": {},
     "output_type": "execute_result"
    }
   ],
   "source": [
    "purchase_behaviour.dtypes"
   ]
  },
  {
   "cell_type": "code",
   "execution_count": 8,
   "id": "2705f505-dddb-40b1-b865-afb80465710c",
   "metadata": {},
   "outputs": [
    {
     "data": {
      "text/plain": [
       "DATE                int64\n",
       "STORE_NBR           int64\n",
       "LYLTY_CARD_NBR      int64\n",
       "TXN_ID              int64\n",
       "PROD_NBR            int64\n",
       "PROD_NAME          object\n",
       "PROD_QTY            int64\n",
       "TOT_SALES         float64\n",
       "dtype: object"
      ]
     },
     "execution_count": 8,
     "metadata": {},
     "output_type": "execute_result"
    }
   ],
   "source": [
    "transaction_data.dtypes"
   ]
  },
  {
   "cell_type": "code",
   "execution_count": 9,
   "id": "c3e0130d-9f45-4c20-b8b2-dfb3551ebaf2",
   "metadata": {},
   "outputs": [],
   "source": [
    "# converting the DATE column into readable date format \n",
    "transaction_data['DATE'] = pd.to_datetime(transaction_data['DATE'], origin='1899-12-30', unit='D')"
   ]
  },
  {
   "cell_type": "code",
   "execution_count": 10,
   "id": "c65c69dc-d59c-4680-8091-82a65266fdd4",
   "metadata": {},
   "outputs": [
    {
     "data": {
      "text/html": [
       "<div>\n",
       "<style scoped>\n",
       "    .dataframe tbody tr th:only-of-type {\n",
       "        vertical-align: middle;\n",
       "    }\n",
       "\n",
       "    .dataframe tbody tr th {\n",
       "        vertical-align: top;\n",
       "    }\n",
       "\n",
       "    .dataframe thead th {\n",
       "        text-align: right;\n",
       "    }\n",
       "</style>\n",
       "<table border=\"1\" class=\"dataframe\">\n",
       "  <thead>\n",
       "    <tr style=\"text-align: right;\">\n",
       "      <th></th>\n",
       "      <th>DATE</th>\n",
       "      <th>STORE_NBR</th>\n",
       "      <th>LYLTY_CARD_NBR</th>\n",
       "      <th>TXN_ID</th>\n",
       "      <th>PROD_NBR</th>\n",
       "      <th>PROD_NAME</th>\n",
       "      <th>PROD_QTY</th>\n",
       "      <th>TOT_SALES</th>\n",
       "    </tr>\n",
       "  </thead>\n",
       "  <tbody>\n",
       "    <tr>\n",
       "      <th>0</th>\n",
       "      <td>2018-10-17</td>\n",
       "      <td>1</td>\n",
       "      <td>1000</td>\n",
       "      <td>1</td>\n",
       "      <td>5</td>\n",
       "      <td>Natural Chip        Compny SeaSalt175g</td>\n",
       "      <td>2</td>\n",
       "      <td>6.0</td>\n",
       "    </tr>\n",
       "    <tr>\n",
       "      <th>1</th>\n",
       "      <td>2019-05-14</td>\n",
       "      <td>1</td>\n",
       "      <td>1307</td>\n",
       "      <td>348</td>\n",
       "      <td>66</td>\n",
       "      <td>CCs Nacho Cheese    175g</td>\n",
       "      <td>3</td>\n",
       "      <td>6.3</td>\n",
       "    </tr>\n",
       "    <tr>\n",
       "      <th>2</th>\n",
       "      <td>2019-05-20</td>\n",
       "      <td>1</td>\n",
       "      <td>1343</td>\n",
       "      <td>383</td>\n",
       "      <td>61</td>\n",
       "      <td>Smiths Crinkle Cut  Chips Chicken 170g</td>\n",
       "      <td>2</td>\n",
       "      <td>2.9</td>\n",
       "    </tr>\n",
       "    <tr>\n",
       "      <th>3</th>\n",
       "      <td>2018-08-17</td>\n",
       "      <td>2</td>\n",
       "      <td>2373</td>\n",
       "      <td>974</td>\n",
       "      <td>69</td>\n",
       "      <td>Smiths Chip Thinly  S/Cream&amp;Onion 175g</td>\n",
       "      <td>5</td>\n",
       "      <td>15.0</td>\n",
       "    </tr>\n",
       "    <tr>\n",
       "      <th>4</th>\n",
       "      <td>2018-08-18</td>\n",
       "      <td>2</td>\n",
       "      <td>2426</td>\n",
       "      <td>1038</td>\n",
       "      <td>108</td>\n",
       "      <td>Kettle Tortilla ChpsHny&amp;Jlpno Chili 150g</td>\n",
       "      <td>3</td>\n",
       "      <td>13.8</td>\n",
       "    </tr>\n",
       "  </tbody>\n",
       "</table>\n",
       "</div>"
      ],
      "text/plain": [
       "        DATE  STORE_NBR  LYLTY_CARD_NBR  TXN_ID  PROD_NBR  \\\n",
       "0 2018-10-17          1            1000       1         5   \n",
       "1 2019-05-14          1            1307     348        66   \n",
       "2 2019-05-20          1            1343     383        61   \n",
       "3 2018-08-17          2            2373     974        69   \n",
       "4 2018-08-18          2            2426    1038       108   \n",
       "\n",
       "                                  PROD_NAME  PROD_QTY  TOT_SALES  \n",
       "0    Natural Chip        Compny SeaSalt175g         2        6.0  \n",
       "1                  CCs Nacho Cheese    175g         3        6.3  \n",
       "2    Smiths Crinkle Cut  Chips Chicken 170g         2        2.9  \n",
       "3    Smiths Chip Thinly  S/Cream&Onion 175g         5       15.0  \n",
       "4  Kettle Tortilla ChpsHny&Jlpno Chili 150g         3       13.8  "
      ]
     },
     "execution_count": 10,
     "metadata": {},
     "output_type": "execute_result"
    }
   ],
   "source": [
    "transaction_data.head()"
   ]
  },
  {
   "cell_type": "markdown",
   "id": "afa2f7a4-e5c9-4a37-805e-2f04bf1dead9",
   "metadata": {},
   "source": [
    "the date has been converted to the required time format "
   ]
  },
  {
   "cell_type": "code",
   "execution_count": 11,
   "id": "062175ca-8ec4-420c-b540-3ff00d28310d",
   "metadata": {},
   "outputs": [],
   "source": [
    "# merging both the dataframes for better comparison and merging on basis of LYLTY_CARD_NBR\n",
    "merged_df = transaction_data.merge(purchase_behaviour, on=\"LYLTY_CARD_NBR\", how=\"left\")\n"
   ]
  },
  {
   "cell_type": "code",
   "execution_count": 12,
   "id": "14ed2c01-1fda-4d97-ba1b-9dc59c6fa2e8",
   "metadata": {},
   "outputs": [
    {
     "data": {
      "text/html": [
       "<div>\n",
       "<style scoped>\n",
       "    .dataframe tbody tr th:only-of-type {\n",
       "        vertical-align: middle;\n",
       "    }\n",
       "\n",
       "    .dataframe tbody tr th {\n",
       "        vertical-align: top;\n",
       "    }\n",
       "\n",
       "    .dataframe thead th {\n",
       "        text-align: right;\n",
       "    }\n",
       "</style>\n",
       "<table border=\"1\" class=\"dataframe\">\n",
       "  <thead>\n",
       "    <tr style=\"text-align: right;\">\n",
       "      <th></th>\n",
       "      <th>DATE</th>\n",
       "      <th>STORE_NBR</th>\n",
       "      <th>LYLTY_CARD_NBR</th>\n",
       "      <th>TXN_ID</th>\n",
       "      <th>PROD_NBR</th>\n",
       "      <th>PROD_NAME</th>\n",
       "      <th>PROD_QTY</th>\n",
       "      <th>TOT_SALES</th>\n",
       "      <th>LIFESTAGE</th>\n",
       "      <th>PREMIUM_CUSTOMER</th>\n",
       "    </tr>\n",
       "  </thead>\n",
       "  <tbody>\n",
       "    <tr>\n",
       "      <th>0</th>\n",
       "      <td>2018-10-17</td>\n",
       "      <td>1</td>\n",
       "      <td>1000</td>\n",
       "      <td>1</td>\n",
       "      <td>5</td>\n",
       "      <td>Natural Chip        Compny SeaSalt175g</td>\n",
       "      <td>2</td>\n",
       "      <td>6.0</td>\n",
       "      <td>YOUNG SINGLES/COUPLES</td>\n",
       "      <td>Premium</td>\n",
       "    </tr>\n",
       "    <tr>\n",
       "      <th>1</th>\n",
       "      <td>2019-05-14</td>\n",
       "      <td>1</td>\n",
       "      <td>1307</td>\n",
       "      <td>348</td>\n",
       "      <td>66</td>\n",
       "      <td>CCs Nacho Cheese    175g</td>\n",
       "      <td>3</td>\n",
       "      <td>6.3</td>\n",
       "      <td>MIDAGE SINGLES/COUPLES</td>\n",
       "      <td>Budget</td>\n",
       "    </tr>\n",
       "    <tr>\n",
       "      <th>2</th>\n",
       "      <td>2019-05-20</td>\n",
       "      <td>1</td>\n",
       "      <td>1343</td>\n",
       "      <td>383</td>\n",
       "      <td>61</td>\n",
       "      <td>Smiths Crinkle Cut  Chips Chicken 170g</td>\n",
       "      <td>2</td>\n",
       "      <td>2.9</td>\n",
       "      <td>MIDAGE SINGLES/COUPLES</td>\n",
       "      <td>Budget</td>\n",
       "    </tr>\n",
       "    <tr>\n",
       "      <th>3</th>\n",
       "      <td>2018-08-17</td>\n",
       "      <td>2</td>\n",
       "      <td>2373</td>\n",
       "      <td>974</td>\n",
       "      <td>69</td>\n",
       "      <td>Smiths Chip Thinly  S/Cream&amp;Onion 175g</td>\n",
       "      <td>5</td>\n",
       "      <td>15.0</td>\n",
       "      <td>MIDAGE SINGLES/COUPLES</td>\n",
       "      <td>Budget</td>\n",
       "    </tr>\n",
       "    <tr>\n",
       "      <th>4</th>\n",
       "      <td>2018-08-18</td>\n",
       "      <td>2</td>\n",
       "      <td>2426</td>\n",
       "      <td>1038</td>\n",
       "      <td>108</td>\n",
       "      <td>Kettle Tortilla ChpsHny&amp;Jlpno Chili 150g</td>\n",
       "      <td>3</td>\n",
       "      <td>13.8</td>\n",
       "      <td>MIDAGE SINGLES/COUPLES</td>\n",
       "      <td>Budget</td>\n",
       "    </tr>\n",
       "    <tr>\n",
       "      <th>...</th>\n",
       "      <td>...</td>\n",
       "      <td>...</td>\n",
       "      <td>...</td>\n",
       "      <td>...</td>\n",
       "      <td>...</td>\n",
       "      <td>...</td>\n",
       "      <td>...</td>\n",
       "      <td>...</td>\n",
       "      <td>...</td>\n",
       "      <td>...</td>\n",
       "    </tr>\n",
       "    <tr>\n",
       "      <th>264831</th>\n",
       "      <td>2019-03-09</td>\n",
       "      <td>272</td>\n",
       "      <td>272319</td>\n",
       "      <td>270088</td>\n",
       "      <td>89</td>\n",
       "      <td>Kettle Sweet Chilli And Sour Cream 175g</td>\n",
       "      <td>2</td>\n",
       "      <td>10.8</td>\n",
       "      <td>YOUNG SINGLES/COUPLES</td>\n",
       "      <td>Premium</td>\n",
       "    </tr>\n",
       "    <tr>\n",
       "      <th>264832</th>\n",
       "      <td>2018-08-13</td>\n",
       "      <td>272</td>\n",
       "      <td>272358</td>\n",
       "      <td>270154</td>\n",
       "      <td>74</td>\n",
       "      <td>Tostitos Splash Of  Lime 175g</td>\n",
       "      <td>1</td>\n",
       "      <td>4.4</td>\n",
       "      <td>YOUNG SINGLES/COUPLES</td>\n",
       "      <td>Premium</td>\n",
       "    </tr>\n",
       "    <tr>\n",
       "      <th>264833</th>\n",
       "      <td>2018-11-06</td>\n",
       "      <td>272</td>\n",
       "      <td>272379</td>\n",
       "      <td>270187</td>\n",
       "      <td>51</td>\n",
       "      <td>Doritos Mexicana    170g</td>\n",
       "      <td>2</td>\n",
       "      <td>8.8</td>\n",
       "      <td>YOUNG SINGLES/COUPLES</td>\n",
       "      <td>Premium</td>\n",
       "    </tr>\n",
       "    <tr>\n",
       "      <th>264834</th>\n",
       "      <td>2018-12-27</td>\n",
       "      <td>272</td>\n",
       "      <td>272379</td>\n",
       "      <td>270188</td>\n",
       "      <td>42</td>\n",
       "      <td>Doritos Corn Chip Mexican Jalapeno 150g</td>\n",
       "      <td>2</td>\n",
       "      <td>7.8</td>\n",
       "      <td>YOUNG SINGLES/COUPLES</td>\n",
       "      <td>Premium</td>\n",
       "    </tr>\n",
       "    <tr>\n",
       "      <th>264835</th>\n",
       "      <td>2018-09-22</td>\n",
       "      <td>272</td>\n",
       "      <td>272380</td>\n",
       "      <td>270189</td>\n",
       "      <td>74</td>\n",
       "      <td>Tostitos Splash Of  Lime 175g</td>\n",
       "      <td>2</td>\n",
       "      <td>8.8</td>\n",
       "      <td>YOUNG SINGLES/COUPLES</td>\n",
       "      <td>Premium</td>\n",
       "    </tr>\n",
       "  </tbody>\n",
       "</table>\n",
       "<p>264836 rows × 10 columns</p>\n",
       "</div>"
      ],
      "text/plain": [
       "             DATE  STORE_NBR  LYLTY_CARD_NBR  TXN_ID  PROD_NBR  \\\n",
       "0      2018-10-17          1            1000       1         5   \n",
       "1      2019-05-14          1            1307     348        66   \n",
       "2      2019-05-20          1            1343     383        61   \n",
       "3      2018-08-17          2            2373     974        69   \n",
       "4      2018-08-18          2            2426    1038       108   \n",
       "...           ...        ...             ...     ...       ...   \n",
       "264831 2019-03-09        272          272319  270088        89   \n",
       "264832 2018-08-13        272          272358  270154        74   \n",
       "264833 2018-11-06        272          272379  270187        51   \n",
       "264834 2018-12-27        272          272379  270188        42   \n",
       "264835 2018-09-22        272          272380  270189        74   \n",
       "\n",
       "                                       PROD_NAME  PROD_QTY  TOT_SALES  \\\n",
       "0         Natural Chip        Compny SeaSalt175g         2        6.0   \n",
       "1                       CCs Nacho Cheese    175g         3        6.3   \n",
       "2         Smiths Crinkle Cut  Chips Chicken 170g         2        2.9   \n",
       "3         Smiths Chip Thinly  S/Cream&Onion 175g         5       15.0   \n",
       "4       Kettle Tortilla ChpsHny&Jlpno Chili 150g         3       13.8   \n",
       "...                                          ...       ...        ...   \n",
       "264831   Kettle Sweet Chilli And Sour Cream 175g         2       10.8   \n",
       "264832             Tostitos Splash Of  Lime 175g         1        4.4   \n",
       "264833                  Doritos Mexicana    170g         2        8.8   \n",
       "264834   Doritos Corn Chip Mexican Jalapeno 150g         2        7.8   \n",
       "264835             Tostitos Splash Of  Lime 175g         2        8.8   \n",
       "\n",
       "                     LIFESTAGE PREMIUM_CUSTOMER  \n",
       "0        YOUNG SINGLES/COUPLES          Premium  \n",
       "1       MIDAGE SINGLES/COUPLES           Budget  \n",
       "2       MIDAGE SINGLES/COUPLES           Budget  \n",
       "3       MIDAGE SINGLES/COUPLES           Budget  \n",
       "4       MIDAGE SINGLES/COUPLES           Budget  \n",
       "...                        ...              ...  \n",
       "264831   YOUNG SINGLES/COUPLES          Premium  \n",
       "264832   YOUNG SINGLES/COUPLES          Premium  \n",
       "264833   YOUNG SINGLES/COUPLES          Premium  \n",
       "264834   YOUNG SINGLES/COUPLES          Premium  \n",
       "264835   YOUNG SINGLES/COUPLES          Premium  \n",
       "\n",
       "[264836 rows x 10 columns]"
      ]
     },
     "execution_count": 12,
     "metadata": {},
     "output_type": "execute_result"
    }
   ],
   "source": [
    "merged_df"
   ]
  },
  {
   "cell_type": "code",
   "execution_count": 14,
   "id": "123fbeee-65c9-48ed-aa42-36deb9ab6ca5",
   "metadata": {},
   "outputs": [
    {
     "data": {
      "text/plain": [
       "DATE                0\n",
       "STORE_NBR           0\n",
       "LYLTY_CARD_NBR      0\n",
       "TXN_ID              0\n",
       "PROD_NBR            0\n",
       "PROD_NAME           0\n",
       "PROD_QTY            0\n",
       "TOT_SALES           0\n",
       "LIFESTAGE           0\n",
       "PREMIUM_CUSTOMER    0\n",
       "dtype: int64"
      ]
     },
     "execution_count": 14,
     "metadata": {},
     "output_type": "execute_result"
    }
   ],
   "source": [
    "# looking for missing values \n",
    "merged_df.isnull().sum()\n"
   ]
  },
  {
   "cell_type": "markdown",
   "id": "07e30cca-b0a8-4f7c-ba15-b733867489f7",
   "metadata": {},
   "source": [
    "There are no missing values"
   ]
  },
  {
   "cell_type": "code",
   "execution_count": 16,
   "id": "cb42977d-49e7-41bc-a5d0-6e26b98d65b3",
   "metadata": {},
   "outputs": [],
   "source": [
    "# looking for duplicates and removing the duplicate values\n",
    "merged_df.duplicated().sum()\n",
    "merged_df = merged_df.drop_duplicates()\n",
    "\n"
   ]
  },
  {
   "cell_type": "code",
   "execution_count": 18,
   "id": "115ecc98-a414-41d8-971a-59b31ef1c14b",
   "metadata": {},
   "outputs": [
    {
     "name": "stdout",
     "output_type": "stream",
     "text": [
      "['YOUNG SINGLES/COUPLES' 'MIDAGE SINGLES/COUPLES' 'NEW FAMILIES'\n",
      " 'OLDER FAMILIES' 'OLDER SINGLES/COUPLES' 'RETIREES' 'YOUNG FAMILIES']\n",
      "['Premium' 'Budget' 'Mainstream']\n",
      "['Natural Chip        Compny SeaSalt175g' 'CCs Nacho Cheese    175g'\n",
      " 'Smiths Crinkle Cut  Chips Chicken 170g'\n",
      " 'Smiths Chip Thinly  S/Cream&Onion 175g'\n",
      " 'Kettle Tortilla ChpsHny&Jlpno Chili 150g'\n",
      " 'Old El Paso Salsa   Dip Tomato Mild 300g'\n",
      " 'Smiths Crinkle Chips Salt & Vinegar 330g'\n",
      " 'Grain Waves         Sweet Chilli 210g'\n",
      " 'Doritos Corn Chip Mexican Jalapeno 150g'\n",
      " 'Grain Waves Sour    Cream&Chives 210G']\n"
     ]
    }
   ],
   "source": [
    "# checking for any inconsistent and or unexpected values \n",
    "\n",
    "#checking for unique values \n",
    "print(merged_df['LIFESTAGE'].unique())\n",
    "print(merged_df['PREMIUM_CUSTOMER'].unique())\n",
    "print(merged_df['PROD_NAME'].unique()[:10])  # Check first 10 unique product names"
   ]
  },
  {
   "cell_type": "code",
   "execution_count": 19,
   "id": "fbf3edae-9a52-4a8d-9604-39f7fa023731",
   "metadata": {},
   "outputs": [
    {
     "data": {
      "text/html": [
       "<div>\n",
       "<style scoped>\n",
       "    .dataframe tbody tr th:only-of-type {\n",
       "        vertical-align: middle;\n",
       "    }\n",
       "\n",
       "    .dataframe tbody tr th {\n",
       "        vertical-align: top;\n",
       "    }\n",
       "\n",
       "    .dataframe thead th {\n",
       "        text-align: right;\n",
       "    }\n",
       "</style>\n",
       "<table border=\"1\" class=\"dataframe\">\n",
       "  <thead>\n",
       "    <tr style=\"text-align: right;\">\n",
       "      <th></th>\n",
       "      <th>DATE</th>\n",
       "      <th>STORE_NBR</th>\n",
       "      <th>LYLTY_CARD_NBR</th>\n",
       "      <th>TXN_ID</th>\n",
       "      <th>PROD_NBR</th>\n",
       "      <th>PROD_NAME</th>\n",
       "      <th>PROD_QTY</th>\n",
       "      <th>TOT_SALES</th>\n",
       "      <th>LIFESTAGE</th>\n",
       "      <th>PREMIUM_CUSTOMER</th>\n",
       "    </tr>\n",
       "  </thead>\n",
       "  <tbody>\n",
       "  </tbody>\n",
       "</table>\n",
       "</div>"
      ],
      "text/plain": [
       "Empty DataFrame\n",
       "Columns: [DATE, STORE_NBR, LYLTY_CARD_NBR, TXN_ID, PROD_NBR, PROD_NAME, PROD_QTY, TOT_SALES, LIFESTAGE, PREMIUM_CUSTOMER]\n",
       "Index: []"
      ]
     },
     "execution_count": 19,
     "metadata": {},
     "output_type": "execute_result"
    }
   ],
   "source": [
    "# checking for negative and zero values \n",
    "merged_df[merged_df['TOT_SALES'] <= 0]\n"
   ]
  },
  {
   "cell_type": "markdown",
   "id": "41e9a91b-dfee-45ac-a758-67c587728263",
   "metadata": {},
   "source": [
    "No negative or 0 values "
   ]
  },
  {
   "cell_type": "markdown",
   "id": "d22a8a57-2a3e-423d-a995-5c2fad26a709",
   "metadata": {},
   "source": [
    "Its safe to assume that the dataset is almost cleaned "
   ]
  },
  {
   "cell_type": "code",
   "execution_count": 21,
   "id": "29c4c657-8f83-4166-9bda-100104e3222f",
   "metadata": {},
   "outputs": [
    {
     "name": "stdout",
     "output_type": "stream",
     "text": [
      "                                   PROD_NAME  TOT_SALES\n",
      "11          Dorito Corn Chp     Supreme 380g    40352.0\n",
      "86    Smiths Crnkle Chip  Orgnl Big Bag 380g    36367.6\n",
      "77  Smiths Crinkle Chips Salt & Vinegar 330g    34804.2\n"
     ]
    }
   ],
   "source": [
    "# identifying the top 3 best selling products  by revenue \n",
    "top_products = merged_df.groupby('PROD_NAME')['TOT_SALES'].sum().reset_index()\n",
    "top_products = top_products.sort_values(by='TOT_SALES', ascending=False).head(3)\n",
    "print(top_products)\n"
   ]
  },
  {
   "cell_type": "markdown",
   "id": "b4393c1c-dec5-4a29-ac92-178aef914cef",
   "metadata": {},
   "source": [
    "so these are the top selling products by revenue\n"
   ]
  },
  {
   "cell_type": "code",
   "execution_count": 22,
   "id": "cd7da6ae-0de9-4e4a-a9c4-5ed5af5eaccc",
   "metadata": {},
   "outputs": [
    {
     "name": "stdout",
     "output_type": "stream",
     "text": [
      "                                   PROD_NAME  PROD_QTY\n",
      "11          Dorito Corn Chp     Supreme 380g      6509\n",
      "33    Kettle Mozzarella   Basil & Pesto 175g      6381\n",
      "42  Kettle Tortilla ChpsHny&Jlpno Chili 150g      6309\n"
     ]
    }
   ],
   "source": [
    "# top selling products by quantity \n",
    "top_products_qty = merged_df.groupby('PROD_NAME')['PROD_QTY'].sum().reset_index()\n",
    "top_products_qty = top_products_qty.sort_values(by='PROD_QTY', ascending=False).head(3)\n",
    "print(top_products_qty)\n"
   ]
  },
  {
   "cell_type": "code",
   "execution_count": 23,
   "id": "521cfcdf-aff3-43a6-bdad-00bda70c0ebc",
   "metadata": {},
   "outputs": [
    {
     "name": "stdout",
     "output_type": "stream",
     "text": [
      "LYLTY_CARD_NBR\n",
      "172032    18\n",
      "162039    18\n",
      "13138     17\n",
      "116181    17\n",
      "128178    17\n",
      "230078    17\n",
      "94185     16\n",
      "129050    16\n",
      "113080    16\n",
      "104117    16\n",
      "Name: count, dtype: int64\n"
     ]
    }
   ],
   "source": [
    "# finding the most frequent customer \n",
    "loyal_customers = merged_df['LYLTY_CARD_NBR'].value_counts().head(10)\n",
    "print(loyal_customers)\n"
   ]
  },
  {
   "cell_type": "code",
   "execution_count": 24,
   "id": "a2c286d2-d16b-418f-9bab-38b97515e3e7",
   "metadata": {},
   "outputs": [
    {
     "name": "stdout",
     "output_type": "stream",
     "text": [
      "                 LIFESTAGE PREMIUM_CUSTOMER  TOT_SALES\n",
      "6           OLDER FAMILIES           Budget  168363.25\n",
      "19   YOUNG SINGLES/COUPLES       Mainstream  157621.60\n",
      "13                RETIREES       Mainstream  155677.05\n",
      "15          YOUNG FAMILIES           Budget  139345.85\n",
      "9    OLDER SINGLES/COUPLES           Budget  136769.80\n",
      "10   OLDER SINGLES/COUPLES       Mainstream  133393.80\n",
      "11   OLDER SINGLES/COUPLES          Premium  132257.15\n",
      "12                RETIREES           Budget  113147.80\n",
      "7           OLDER FAMILIES       Mainstream  103445.55\n",
      "14                RETIREES          Premium   97646.05\n",
      "16          YOUNG FAMILIES       Mainstream   92788.75\n",
      "1   MIDAGE SINGLES/COUPLES       Mainstream   90803.85\n",
      "17          YOUNG FAMILIES          Premium   84025.50\n",
      "8           OLDER FAMILIES          Premium   81958.40\n",
      "18   YOUNG SINGLES/COUPLES           Budget   61141.60\n",
      "2   MIDAGE SINGLES/COUPLES          Premium   58432.65\n",
      "20   YOUNG SINGLES/COUPLES          Premium   41642.10\n",
      "0   MIDAGE SINGLES/COUPLES           Budget   35514.80\n",
      "3             NEW FAMILIES           Budget   21928.45\n",
      "4             NEW FAMILIES       Mainstream   17013.90\n",
      "5             NEW FAMILIES          Premium   11491.10\n"
     ]
    }
   ],
   "source": [
    "# finding the most profitable custormer segment \n",
    "customer_segments = merged_df.groupby(['LIFESTAGE', 'PREMIUM_CUSTOMER'])['TOT_SALES'].sum().reset_index()\n",
    "customer_segments = customer_segments.sort_values(by='TOT_SALES', ascending=False)\n",
    "print(customer_segments)\n"
   ]
  },
  {
   "cell_type": "markdown",
   "id": "93395d6e-51e5-4c24-be63-89e31ea25e61",
   "metadata": {},
   "source": [
    "# now visualising who the top buyer are "
   ]
  },
  {
   "cell_type": "markdown",
   "id": "1441d410-6bce-48c1-badf-741e8bc86613",
   "metadata": {},
   "source": [
    "Total spending by customer segment "
   ]
  },
  {
   "cell_type": "code",
   "execution_count": 25,
   "id": "ef2775bf-6315-4642-a528-d81d0c0193b1",
   "metadata": {},
   "outputs": [
    {
     "data": {
      "image/png": "[encoded data removed]",
      "text/plain": [
       "<Figure size 1200x600 with 1 Axes>"
      ]
     },
     "metadata": {},
     "output_type": "display_data"
    }
   ],
   "source": [
    "import seaborn as sns\n",
    "import matplotlib.pyplot as plt\n",
    "\n",
    "plt.figure(figsize=(12, 6))\n",
    "sns.barplot(data=customer_segments, x='LIFESTAGE', y='TOT_SALES', hue='PREMIUM_CUSTOMER', palette='viridis')\n",
    "plt.xticks(rotation=45)\n",
    "plt.title(\"Total Sales by Customer Segment\")\n",
    "plt.ylabel(\"Total Sales ($)\")\n",
    "plt.xlabel(\"Lifestage\")\n",
    "plt.show()\n"
   ]
  },
  {
   "cell_type": "markdown",
   "id": "4386c9b2-691d-4cc9-8997-41985077f045",
   "metadata": {},
   "source": [
    "From the given graph we can interpret that \n"
   ]
  },
  {
   "cell_type": "markdown",
   "id": "c34e5c9b-9e01-47dd-9373-d3ca37d9c386",
   "metadata": {},
   "source": [
    "\n",
    "Top Buying Segments (Highest Sales) are \n",
    "Older Families (Budget customers) have the highest total sales.\n"
   ]
  },
  {
   "cell_type": "markdown",
   "id": "2efad5eb-025d-4402-9fe2-6dfb8635db0c",
   "metadata": {},
   "source": [
    "Retirees/Young Singles/ Couples (Mainstream customers) also contribute significantly to sales."
   ]
  },
  {
   "cell_type": "markdown",
   "id": "ee442a0a-56eb-42c4-80de-49327e17a5ae",
   "metadata": {},
   "source": [
    "Young Families are also strong contributors, especially in the Budget category."
   ]
  },
  {
   "cell_type": "markdown",
   "id": "fd5156a0-4419-41fd-832d-cdb4116efc74",
   "metadata": {},
   "source": [
    "Older Families, Young Families, and Retirees contribute most to total sales, but budget and mainstream customers are the biggest spenders."
   ]
  },
  {
   "cell_type": "markdown",
   "id": "203f772b-9664-4e82-ba54-4b2bacba526a",
   "metadata": {},
   "source": [
    "Premium customers spend less overall than mainstream or budget customers, except in the Older Singles/Couples category, where all groups spend almost equally.\n"
   ]
  },
  {
   "cell_type": "markdown",
   "id": "0bf84bea-1f44-4995-9bea-bda0ad9be5c7",
   "metadata": {},
   "source": [
    "New Families and Mid-Age Singles/Couples have the lowest sales across all categories."
   ]
  },
  {
   "cell_type": "code",
   "execution_count": 26,
   "id": "6b9af46a-6baf-42bc-9cfc-e63942486cc5",
   "metadata": {},
   "outputs": [
    {
     "data": {
      "image/png": "[encoded data removed]",
      "text/plain": [
       "<Figure size 1200x600 with 1 Axes>"
      ]
     },
     "metadata": {},
     "output_type": "display_data"
    }
   ],
   "source": [
    "customer_freq = merged_df.groupby(['LIFESTAGE', 'PREMIUM_CUSTOMER'])['LYLTY_CARD_NBR'].count().reset_index()\n",
    "customer_freq = customer_freq.sort_values(by='LYLTY_CARD_NBR', ascending=False)\n",
    "\n",
    "plt.figure(figsize=(12, 6))\n",
    "sns.barplot(data=customer_freq, x='LIFESTAGE', y='LYLTY_CARD_NBR', hue='PREMIUM_CUSTOMER', palette='coolwarm')\n",
    "plt.xticks(rotation=45)\n",
    "plt.title(\"Purchase Frequency by Customer Segment\")\n",
    "plt.ylabel(\"Number of Transactions\")\n",
    "plt.xlabel(\"Lifestage\")\n",
    "plt.show()\n"
   ]
  },
  {
   "cell_type": "markdown",
   "id": "69676c6a-5c55-4695-b3eb-9886f3a63f13",
   "metadata": {},
   "source": [
    "# Observations"
   ]
  },
  {
   "cell_type": "markdown",
   "id": "21e3e35d-d3c2-4162-ae52-6073ab7118dd",
   "metadata": {},
   "source": [
    "Older Families have the highest number of transactions, especially in the Budget category (blue)."
   ]
  },
  {
   "cell_type": "markdown",
   "id": "2443426c-b3ce-445b-8dac-a384dd50acda",
   "metadata": {},
   "source": [
    "Retirees (Mainstream buyers) also make a high number of purchases, aligning with their high total sales from the previous graph."
   ]
  },
  {
   "cell_type": "markdown",
   "id": "d282de6c-fdac-4da4-b1e0-0070929c5a8b",
   "metadata": {},
   "source": [
    "Young Families & Older Singles/Couples have consistently high purchase frequencies across all categories."
   ]
  },
  {
   "cell_type": "markdown",
   "id": "4b9c7b60-cc8b-4c9c-aa64-c4a76e8858ca",
   "metadata": {},
   "source": [
    "New Families have the least transactions, meaning they are not a key market segment."
   ]
  },
  {
   "cell_type": "markdown",
   "id": "a4adb465-02d4-4aea-88c6-fb0d9cebf306",
   "metadata": {},
   "source": [
    "Mid-Age Singles/Couples also have fewer purchases compared to other groups, but mainstream and premium customers in this category contribute slightly more."
   ]
  },
  {
   "cell_type": "markdown",
   "id": "f4650f9f-2241-4bf2-8235-db0d19563eb8",
   "metadata": {},
   "source": [
    "Key Insights can be: \n",
    "1. Older Families & Retirees are the most frequent shoppers\n",
    "2. Premium Customers are Less Frequent Buyers\n",
    "3. Young Families & Older Singles/Couples show strong engagement\n",
    "4. New Families & Mid-Age Singles/Couples are weak segments"
   ]
  },
  {
   "cell_type": "markdown",
   "id": "00e62f88-03f6-42d7-8767-8b3967a56817",
   "metadata": {},
   "source": [
    "Market Strategy Based on Insights \n",
    "1. Target Older Families & Retirees\n",
    "2. Encourage Premium Customers to Buy More Frequently\n",
    "3. Boost Engagement for New Families & Mid-Age Singles/Couples"
   ]
  },
  {
   "cell_type": "code",
   "execution_count": 30,
   "id": "a4109c6e-6bb1-4b22-8129-6b8b9c431ea0",
   "metadata": {},
   "outputs": [
    {
     "name": "stdout",
     "output_type": "stream",
     "text": [
      "                                   PROD_NAME  TOT_SALES\n",
      "11          Dorito Corn Chp     Supreme 380g   11917.75\n",
      "86    Smiths Crnkle Chip  Orgnl Big Bag 380g    9310.20\n",
      "76         Smiths Crinkle      Original 330g    9171.30\n",
      "6                       Cheezels Cheese 330g    9125.70\n",
      "33    Kettle Mozzarella   Basil & Pesto 175g    8915.40\n",
      "32          Kettle Honey Soy    Chicken 175g    8775.00\n",
      "34                      Kettle Original 175g    8661.60\n",
      "77  Smiths Crinkle Chips Salt & Vinegar 330g    8646.90\n",
      "39   Kettle Sweet Chilli And Sour Cream 175g    8494.20\n",
      "31                        Kettle Chilli 175g    8440.20\n"
     ]
    }
   ],
   "source": [
    "# we will check if the premium customers buy the premiumm products \n",
    "premium_purchases = merged_df[merged_df['PREMIUM_CUSTOMER'] == 'Premium']\n",
    "top_premium_products = premium_purchases.groupby('PROD_NAME')['TOT_SALES'].sum().reset_index()\n",
    "top_premium_products = top_premium_products.sort_values(by='TOT_SALES', ascending=False).head(10)\n",
    "print(top_premium_products)\n",
    "\n"
   ]
  },
  {
   "cell_type": "markdown",
   "id": "d0c78547-ea52-42ea-baf3-4ce61637dec8",
   "metadata": {},
   "source": [
    "Top 10 products purchased by premium customers "
   ]
  },
  {
   "cell_type": "markdown",
   "id": "b7bb08f3-3f02-4254-9f99-368ebdabd532",
   "metadata": {},
   "source": [
    "Comparing against budget customers \n"
   ]
  },
  {
   "cell_type": "code",
   "execution_count": 31,
   "id": "2d52911a-3ce4-4d38-9c19-dd0668c9fc59",
   "metadata": {},
   "outputs": [
    {
     "name": "stdout",
     "output_type": "stream",
     "text": [
      "                                   PROD_NAME  TOT_SALES\n",
      "11          Dorito Corn Chp     Supreme 380g   13068.25\n",
      "86    Smiths Crnkle Chip  Orgnl Big Bag 380g   12384.10\n",
      "33    Kettle Mozzarella   Basil & Pesto 175g   12241.80\n",
      "77  Smiths Crinkle Chips Salt & Vinegar 330g   12192.30\n",
      "12          Doritos Cheese      Supreme 330g   12152.40\n",
      "6                       Cheezels Cheese 330g   11850.30\n",
      "76         Smiths Crinkle      Original 330g   11850.30\n",
      "39   Kettle Sweet Chilli And Sour Cream 175g   11620.80\n",
      "35      Kettle Sea Salt     And Vinegar 175g   11512.80\n",
      "34                      Kettle Original 175g   11442.60\n"
     ]
    }
   ],
   "source": [
    "budget_purchases = merged_df[merged_df['PREMIUM_CUSTOMER'] == 'Budget']\n",
    "top_budget_products = budget_purchases.groupby('PROD_NAME')['TOT_SALES'].sum().reset_index()\n",
    "top_budget_products = top_budget_products.sort_values(by='TOT_SALES', ascending=False).head(10)\n",
    "\n",
    "print(top_budget_products)"
   ]
  },
  {
   "cell_type": "markdown",
   "id": "2b3f3ec5-d8b7-48ea-8b10-9d8017c7f335",
   "metadata": {},
   "source": [
    "This is what budget customers buy "
   ]
  },
  {
   "cell_type": "markdown",
   "id": "f7e3fe4f-1e8f-4c36-a1cd-8723f86f461b",
   "metadata": {},
   "source": [
    "Key Insights after comparison \n",
    "1. Dorito Corn Chip Supreme 380g is the top-selling product for both budget & premium customers.\n",
    "2. Smiths Crinkle Chips (various flavors) are also highly purchased across all segments.\n",
    "3. Kettle brand products are significantly purchased by both segments.\n",
    "4. Cheezels Cheese 330g is popular across both segments.\n"
   ]
  },
  {
   "cell_type": "markdown",
   "id": "42bbdd09-82d9-4346-913e-64cde558390c",
   "metadata": {},
   "source": [
    "# Better business strategy can be "
   ]
  },
  {
   "cell_type": "markdown",
   "id": "88cdf75b-256e-47a1-a781-1aa8a40d163b",
   "metadata": {},
   "source": [
    "1. Leverage Doritos as a Key Product for All Customers\n",
    "2. Target Premium Customers with \"Gourmet\" Flavors\n",
    "3. Encourage Budget Customers to Try New Flavors\n",
    "4.  Boost Sales for Smiths Crinkle Chips"
   ]
  },
  {
   "cell_type": "markdown",
   "id": "80a58237-6091-4877-8727-a7ebb8031526",
   "metadata": {},
   "source": [
    "Now that we've analyzed purchase frequency, let's identify the best-selling products for each customer segment."
   ]
  },
  {
   "cell_type": "code",
   "execution_count": 32,
   "id": "93165282-29b6-4c4d-bcaf-8ca840e63cfe",
   "metadata": {},
   "outputs": [
    {
     "name": "stdout",
     "output_type": "stream",
     "text": [
      "                                   PROD_NAME  TOT_SALES\n",
      "11          Dorito Corn Chp     Supreme 380g    40352.0\n",
      "86    Smiths Crnkle Chip  Orgnl Big Bag 380g    36367.6\n",
      "77  Smiths Crinkle Chips Salt & Vinegar 330g    34804.2\n"
     ]
    }
   ],
   "source": [
    "# top 3 best selling products \n",
    "top_products = merged_df.groupby('PROD_NAME')['TOT_SALES'].sum().reset_index()\n",
    "top_products = top_products.sort_values(by='TOT_SALES', ascending=False).head(3)\n",
    "\n",
    "print(top_products)"
   ]
  },
  {
   "cell_type": "markdown",
   "id": "bc075b48-ba7d-4e78-a09a-a218c90bec76",
   "metadata": {},
   "source": [
    "Key Insights:\n",
    "1.  Doritos is the top-selling product\n",
    "2.  Smiths Crinkle Chips dominate sales\n",
    "3.   Packaging size matters"
   ]
  },
  {
   "cell_type": "markdown",
   "id": "c3c8a5de-7b49-42e3-9ee2-6eb875f8e0f1",
   "metadata": {},
   "source": [
    "# Now observation of most loyal customer segment "
   ]
  },
  {
   "cell_type": "markdown",
   "id": "15fca795-3651-45c2-a762-9f600f4fb6cf",
   "metadata": {},
   "source": [
    "1. Total sales by customer segment (graph 1)\n",
    "   1. Older Families and Retirees contribute the highest to total sales.\n",
    "   2. Premium customers do not significantly outperform Budget/Mainstream customers.\n",
    "2.  Purchase Frequency by Customer Segment (Graph 2)\n",
    "    1. Older Families (Budget & Mainstream) have the highest number of transactions.\n",
    "    2. Retirees (Mainstream customers) also shop frequently.\n",
    "    3. Young Singles/Couples & Midage Singles/Couples (Premium customers) shop less frequently.\n",
    "      "
   ]
  },
  {
   "cell_type": "markdown",
   "id": "d99e0886-6a3e-4e10-8bdd-d1d1e4de0a0f",
   "metadata": {},
   "source": [
    "# Conclusion "
   ]
  },
  {
   "cell_type": "markdown",
   "id": "ec7ddfe6-1298-4d7e-862c-201e89ef342e",
   "metadata": {},
   "source": [
    "1. Most Loyal Customer Segment: Older Families (Budget & Mainstream)\n",
    "   1. They have the highest purchase frequency and total spending.\n",
    "   2.  They consistently buy in large volumes, making them key revenue drivers.\n",
    "2. Business Implication:\n",
    "   1. Since Budget & Mainstream Older Families are the most loyal, consider family-pack promotions and value deals targeting them.\n",
    "   2. Personalized discounts for frequent shoppers can help maintain their loyalty.\n",
    "   3. Launch a loyalty program with rewards for repeat purchases."
   ]
  },
  {
   "cell_type": "markdown",
   "id": "acdcd086-ab19-4e83-87fa-c4f6cb840075",
   "metadata": {},
   "source": [
    "Top 3 profitable products are \n",
    "1. Dorito Corn Chip Supreme 380g → $40,352\n"
   ]
  },
  {
   "cell_type": "markdown",
   "id": "e22da3dd-0331-4be2-a11f-f931b343127d",
   "metadata": {},
   "source": [
    "2.  Smiths Crinkle Chip Original Big Bag 380g → $36,367.60"
   ]
  },
  {
   "cell_type": "markdown",
   "id": "1fe9a13c-07c2-4691-b020-d13028513691",
   "metadata": {},
   "source": [
    "3. Smiths Crinkle Chips Salt & Vinegar 330g → $34,804.20\n",
    "\n"
   ]
  },
  {
   "cell_type": "markdown",
   "id": "37a091a2-ad4e-4a3e-af9c-65cd5d92c4f1",
   "metadata": {},
   "source": []
  }
 ],
 "metadata": {
  "kernelspec": {
   "display_name": "Python 3 (ipykernel)",
   "language": "python",
   "name": "python3"
  },
  "language_info": {
   "codemirror_mode": {
    "name": "ipython",
    "version": 3
   },
   "file_extension": ".py",
   "mimetype": "text/x-python",
   "name": "python",
   "nbconvert_exporter": "python",
   "pygments_lexer": "ipython3",
   "version": "3.12.6"
  }
 },
 "nbformat": 4,
 "nbformat_minor": 5
}
